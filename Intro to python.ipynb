{
 "cells": [
  {
   "cell_type": "code",
   "execution_count": null,
   "metadata": {},
   "outputs": [],
   "source": [
    "#Introducción a Python"
   ]
  },
  {
   "cell_type": "code",
   "execution_count": 41,
   "metadata": {},
   "outputs": [
    {
     "name": "stdout",
     "output_type": "stream",
     "text": [
      "17\n",
      "0.625\n",
      "17\n",
      "10\n",
      "0\n",
      "15\n",
      "5.0\n",
      "4\n",
      "16\n"
     ]
    }
   ],
   "source": [
    "# Python como calculadora\n",
    "#Python es perfectamente adecuado para hacer cálculos básicos. Además de la suma, resta, multiplicación y división, también hay soporte para operaciones más avanzadas como:\n",
    "\n",
    "#Exponentes: **. Este operador eleva el número a su izquierda a la potencia del número a su derecha. Por ejemplo 4 ** 2 dará 16.\n",
    "#Residuos: %. Este operador devuelve el resto de la división del número a la izquierda por el número a su derecha. Por ejemplo, 18% 7 es igual a 4.\n",
    "\n",
    "#Resuelve los siguientes ejemplos: \n",
    "\n",
    "# Imprime la suma de 7 mas 10:\n",
    "print(7 + 10)\n",
    "\n",
    "# Divide 5 entre 8\n",
    "print(5 / 8)\n",
    "\n",
    "# Suma 7 mas 10\n",
    "print(7 + 10)\n",
    "\n",
    "# Suma y resta 5 con 5\n",
    "print(5 + 5)\n",
    "print(5 - 5)\n",
    "\n",
    "# Multiplicación, división, residuo, and exponente\n",
    "print(3 * 5)\n",
    "print(10 / 2)\n",
    "print(18 % 7)\n",
    "print(4 ** 2)\n",
    "\n",
    "# Cuanto vale un billete de 100 pesos que puede invertir con un rendimiento de 10% cada año. ¿Cuánto tendrás en 7 años?\n",
    "print(100 * 1.1 ** 7)"
   ]
  },
  {
   "cell_type": "code",
   "execution_count": 2,
   "metadata": {
    "scrolled": true
   },
   "outputs": [
    {
     "name": "stdout",
     "output_type": "stream",
     "text": [
      "17\n"
     ]
    }
   ],
   "source": [
    "# Creación de variables\n",
    "#En Python, una variable le permite hacer referencia a un valor con un nombre. Para crear una variable use =, como este ejemplo:\n",
    "\n",
    "#x = 5\n",
    "#Ahora puede usar el nombre de esta variable, x, en lugar del valor real, 5.\n",
    "\n",
    "#Recuerde, = en Python significa asignación, ¡no prueba la igualdad!\n",
    "\n",
    "# Crea una variable \"ahorros\" igual a 100\n",
    "ahorros = 100\n",
    "\n",
    "#Crea una variable \"mult_crec\"\n",
    "mult_crec = 1.1\n",
    "\n",
    "# Crea una variable \"resultado\" con el resultado anterior\n",
    "resultado = ahorros * mult_crec ** 7\n",
    "\n",
    "# Imprime el resultado\n",
    "print(resultado)"
   ]
  },
  {
   "cell_type": "code",
   "execution_count": 21,
   "metadata": {
    "scrolled": true
   },
   "outputs": [
    {
     "name": "stdout",
     "output_type": "stream",
     "text": [
      "<class 'int'>\n",
      "<class 'float'>\n",
      "<class 'str'>\n",
      "<class 'bool'>\n"
     ]
    }
   ],
   "source": [
    "# Tipos de variables\n",
    "\n",
    "#En el ejercicio anterior, trabajó con dos tipos de datos de Python:\n",
    "\n",
    "#int o entero: un número sin una parte fraccionaria. ahorros, con el valor 100, es un ejemplo de un entero.\n",
    "#flotante: un número que tiene una parte entera y una fracción, separadas por un punto. mult_crec, con el valor 1.1, es un ejemplo de flotante.\n",
    "#Junto a los tipos de datos numéricos, hay otros dos tipos de datos muy comunes:\n",
    "\n",
    "#str o string: un tipo para representar texto. Puede usar comillas simples o dobles para construir una cadena.\n",
    "#bool o boolean: un tipo para representar valores lógicos. Solo puede ser Verdadero o Falso (¡la capitalización es importante!).\n",
    "#A continuación vas a crear tres variables: \"edad\" igual a tu edad, \"estatura\" igual a tu estatura (con decimales), \"nombre\" igual a tu nombre,y \"log_bin\" igual a True.\n",
    "edad = 24\n",
    "estatura = 1.64\n",
    "nombre = 'María'\n",
    "log_bin = True\n",
    "\n",
    "#Ahora verifica el tipo de variable de cada una usando el comando type() e imprime los resultados\n",
    "print(type(num))\n",
    "print(type(dec))\n",
    "print(type(letras))\n",
    "print(type(log_bin))"
   ]
  },
  {
   "cell_type": "code",
   "execution_count": 43,
   "metadata": {
    "scrolled": true
   },
   "outputs": [
    {
     "name": "stdout",
     "output_type": "stream",
     "text": [
      "Me llamo María, tengo 24 años, y mido 1.64\n"
     ]
    }
   ],
   "source": [
    "#Conversión de tipo de variables\n",
    "#Usar el operador + para pegar dos cadenas puede ser muy útil en la creación de mensajes personalizados.\n",
    "\n",
    "#Supongamos, por ejemplo, que ha calculado el rendimiento de su inversión y desea resumir los resultados en una cadena. Suponiendo que los ahorros enteros y el resultado flotante están definidos, puede intentar algo como esto:\n",
    "\n",
    "#print (\"Empecé con $\" + ahorro + \"y ahora tengo $\" + resultado + \". ¡Impresionante!\")\n",
    "#Sin embargo, esto no funcionará, ya que no puede simplemente sumar cadenas/strings y enteros/flotantes.\n",
    "\n",
    "#Para corregir el error, deberá convertir explícitamente los tipos de sus variables. Más específicamente, necesitará str (), para convertir un valor en una cadena. str(ahorros), por ejemplo, convertirá el ahorro entero en una cadena.\n",
    "\n",
    "#Funciones similares como int (), float () y bool () te ayudarán a convertir los valores de Python en cualquier tipo:\n",
    "\n",
    "#Imprime la frase \"Me llamo (tu nombre), tengo (tu edad) años, y mido (tu estatura)\" utilizando las variables nombre, edad y estatura y haciendo uso del comando str()\n",
    "\n",
    "print(\"Me llamo \" + nombre + \", tengo \" + str(edad) + \" años, y mido \" + str(estatura))"
   ]
  },
  {
   "cell_type": "code",
   "execution_count": 25,
   "metadata": {},
   "outputs": [
    {
     "name": "stdout",
     "output_type": "stream",
     "text": [
      "['Gasto en cereales', 437.13, 'Gasto en carnes', 1787.13, 'Gasto en leche', 2841.41, 'Gasto en verduras', 861.38, 'Gasto en frutas', 244.27]\n"
     ]
    }
   ],
   "source": [
    "# LISTAS\n",
    "#Una lista es un tipo de datos compuestos en los que puedes agrupar distintos valores:\n",
    "#nombre = \"Maria\"\n",
    "#apellido = \"De Rueda\"\n",
    "#mi_lista = [\"me\", \"llamo\", a, b]\n",
    "#Con daltos de la Encuesta Nacional de Ingresos y Gastos de los Hogares (ENIGH) se colectaron los datos de una familia mexicana para los siguientes ejercicios:\n",
    "cereales = 437.13 #Cuanto destina la familia de su ingreso a comprar cereales\n",
    "carnes =  1787.13 #Cuanto destina la familia de su ingreso a comprar carnes\n",
    "leche = 2841.41 #Cuanto destina la familia de su ingreso a comprar leche y derivados\n",
    "verduras = 861.38 #Cuanto destina la familia de su ingreso a comprar verduras\n",
    "frutas = 244.27 #Cuanto destina la familia de su ingreso a comprar frutas\n",
    "\n",
    "#Termina la lista adaptada a alimentos:\n",
    "alimentos = [\"Gasto en cereales\", cereales, \"Gasto en carnes\", carnes, \"Gasto en leche\", leche, \"Gasto en verduras\", verduras, \"Gasto en frutas\", frutas]\n",
    "\n",
    "# Imprime alimentos\n",
    "print(alimentos)\n",
    "\n",
    "#Como pudiste comprobar, las listas en Python pueden tener distintos tipos de variables, en este caso la lista tiene variables tipo String y Float."
   ]
  },
  {
   "cell_type": "code",
   "execution_count": 28,
   "metadata": {},
   "outputs": [
    {
     "name": "stdout",
     "output_type": "stream",
     "text": [
      "[['Gasto en cereales', 437.13], ['Gasto en carnes', 1787.13], ['Gasto en leche', 2841.41], ['Gasto en verduras', 861.38], ['Gasto en frutas', 244.27]]\n",
      "<class 'list'>\n"
     ]
    }
   ],
   "source": [
    "#LISTA DE LISTAS\n",
    "#A menudo te tocará trbajar con muchos datos y tendrá sentido agrupar algunos de estos.\n",
    "#En lugar de crear una lista plana que contenga strings y floats como el ejercicio pasado, puedes crear una lista de listas.\n",
    "#Acompleta la lista de listas mostrada a continuación e imprime la nueva lista para que notes la diferencia, ¿Cuál hace más sentido?.\n",
    "alimentos = [[\"Gasto en cereales\", cereales],\n",
    "         [\"Gasto en carnes\", carnes],\n",
    "         [\"Gasto en leche\", leche],\n",
    "         [\"Gasto en verduras\", verduras],\n",
    "         [\"Gasto en frutas\", frutas]]\n",
    "print(alimentos)\n",
    "\n",
    "#Ahora descrubre que tipo de variables es alimentos para que continues familiarizandote con el tipo de variables en Python:\n",
    "print(type(alimentos))"
   ]
  },
  {
   "cell_type": "code",
   "execution_count": 29,
   "metadata": {},
   "outputs": [
    {
     "name": "stdout",
     "output_type": "stream",
     "text": [
      "437.13\n",
      "244.27\n",
      "2841.41\n"
     ]
    }
   ],
   "source": [
    "# SUBCONJUNTOS DE LISTAS\n",
    "\n",
    "#Para hacer una subconjunto de listas tomaremos como ejemplo el código a continuación\n",
    "#x = [\"a\", \"b\", \"c\", \"d\"]\n",
    "#x [1]\n",
    "#x [-3] # mismo resultado!\n",
    "\n",
    "#la lista x tiene 4 índices que comienzan con cero, es decir, \"a\" es el índice 0, \"b\" es el índice 1 y así sucesivamente. Con los corchetes después de la variable puedes llamar a cualquier parte de la lista.\n",
    "#También lo puedes hacer usando índices negativos cuando la lista es muy larga, -1 corresponde al último valor de la lista que en este caso es \"d\"\n",
    "\n",
    "#¿Recuerdas la lista de áreas de antes, que contiene cadenas y flotantes? Su definición ya está en el guión. ¿Puedes agregar el código correcto para hacer algunos subconjuntos de Python?\n",
    "alimentos = [\"Gasto en cereales\", cereales, \"Gasto en carnes\", carnes, \"Gasto en leche\", leche, \"Gasto en verduras\", verduras, \"Gasto en frutas\", frutas]\n",
    "\n",
    "#Imprime el segundo elemento de la lista:\n",
    "print(alimentos[1])\n",
    "\n",
    "#Imprime el último elemento de la lista:\n",
    "print(alimentos[-1])\n",
    "\n",
    "#Imprime cuánto gasta la familia del ejemplo en leche y derivados:\n",
    "print(alimentos[5])"
   ]
  },
  {
   "cell_type": "code",
   "execution_count": 30,
   "metadata": {},
   "outputs": [
    {
     "name": "stdout",
     "output_type": "stream",
     "text": [
      "1105.65\n"
     ]
    }
   ],
   "source": [
    "#Subconjuntos y calculos\n",
    "\n",
    "#Después de extraer los valores de una lista, puede usarlos para realizar cálculos adicionales. Tome este ejemplo, donde se extraen el segundo y cuarto elemento de una lista x. Las cadenas que resultan se pegan juntas usando el operador +:\n",
    "\n",
    "#x = [\"a\", \"b\", \"c\", \"d\"]\n",
    "#imprimir (x [1] + x [3])\n",
    "\n",
    "#Utilizando la lista de alimentos, crea una variables que me diga cuanto gasta la familia en frutas y verduras e imprime el resultado:\n",
    "frut_verd = alimentos[-1] + alimentos[-3]\n",
    "print(frut_verd)"
   ]
  },
  {
   "cell_type": "code",
   "execution_count": 37,
   "metadata": {},
   "outputs": [
    {
     "name": "stdout",
     "output_type": "stream",
     "text": [
      "['Gasto en cereales', 437.13, 'Gasto en verduras', 861.38, 'Gasto en frutas', 244.27]\n",
      "['Gasto en carnes', 1787.13, 'Gasto en leche', 2841.41]\n"
     ]
    }
   ],
   "source": [
    "#Subconjunto de multiples elementos de una lista\n",
    "\n",
    "#Seleccionar valores individuales de una lista es solo una parte de la historia. También es posible dividir su lista, lo que significa seleccionar varios elementos de su lista. Use la siguiente sintaxis:\n",
    "\n",
    "#mi_lista [inicio: fin]\n",
    "#El índice inicial se incluirá, mientras que el índice final no.\n",
    "\n",
    "#El siguiente ejemplo de código muestra un ejemplo. Una lista con \"b\" y \"c\", correspondiente a los índices 1 y 2, se seleccionan de una lista x:\n",
    "\n",
    "#x = [\"a\", \"b\", \"c\", \"d\"]\n",
    "#x [1: 3]\n",
    "#Los elementos con índice 1 y 2 están incluidos, mientras que el elemento con índice 3 no lo está.\n",
    "\n",
    "alimentos = [\"Gasto en cereales\", cereales, \"Gasto en verduras\", verduras, \"Gasto en frutas\", frutas, \"Gasto en carnes\", carnes, \"Gasto en leche\", leche]\n",
    "\n",
    "#Crea una variable que contenga el gasto en alimentos de origen animal y de no origen animal e imprime el resultado\n",
    "or_anim = alimentos[0:6]\n",
    "no_or_anim = alimentos[6:10]\n",
    "\n",
    "print(or_anim)\n",
    "print(no_or_anim)\n"
   ]
  },
  {
   "cell_type": "code",
   "execution_count": 38,
   "metadata": {},
   "outputs": [
    {
     "name": "stdout",
     "output_type": "stream",
     "text": [
      "['Gasto en cereales', 437.13, 'Gasto en verduras', 861.38, 'Gasto en frutas', 244.27]\n",
      "['Gasto en carnes', 1787.13, 'Gasto en leche', 2841.41]\n",
      "['Gasto en cereales', 437.13, 'Gasto en verduras', 861.38, 'Gasto en frutas', 244.27, 'Gasto en carnes', 1787.13, 'Gasto en leche', 2841.41]\n"
     ]
    }
   ],
   "source": [
    "# Subconjunto de multiples elementos de una lista\n",
    "#Existe otra manera de hacer subconjuntos con sin especificar con índices. Si no especifica el índice de inicio, Python se da cuenta de que desea comenzar su segmento al comienzo de su lista. Si no especifica el índice final, el segmento irá hasta el último elemento de su lista. Ve el siguiente ejemplo:\n",
    "#x = [\"a\", \"b\", \"c\", \"d\"]\n",
    "#x [: 2]\n",
    "#x [2:]\n",
    "#X[:]\n",
    "\n",
    "#Realiza de nuevo las variables pero con el nuevo sintaxis y agrega una variable \"todo\" con todos los elementos de la lista:\n",
    "or_anim = alimentos[:6]\n",
    "no_or_anim = alimentos[6:]\n",
    "todo = alimentos[:]\n",
    "\n",
    "print(or_anim)\n",
    "print(no_or_anim)\n",
    "print(todo)\n"
   ]
  },
  {
   "cell_type": "code",
   "execution_count": 39,
   "metadata": {},
   "outputs": [
    {
     "name": "stdout",
     "output_type": "stream",
     "text": [
      "1787.13\n"
     ]
    }
   ],
   "source": [
    "# Subconjunto de listas de listas\n",
    "\n",
    "#Viste antes que una lista de Python puede contener prácticamente cualquier cosa; incluso otras listas! Para hacer un subconjunto de listas de listas, puede usar la misma técnica que antes: corchetes. Pruebe los comandos en el siguiente ejemplo de código:\n",
    "\n",
    "# x = [[\"\" \",\" b \",\" c \"],\n",
    "#     [\"d\", \"e\", \"f\"],\n",
    "#     [\"g\", \"h\", \"i\"]]\n",
    "#x[2][0] #Aquí le estarías pidiendo a Python que te de el primer elemento de la tercera lista, es decir, \"g\"\n",
    "#x[2][: 2] #Aquí le estarías pidiendo a Python que te de los primeros tres elemento de la tercera lista, es decir, \"g, h, i\"\n",
    "#x[2] da como resultado una lista, que puede subconjunto nuevamente agregando corchetes adicionales.\n",
    "\n",
    "alimentos = [[\"Gasto en cereales\", cereales],\n",
    "         [\"Gasto en carnes\", carnes],\n",
    "         [\"Gasto en leche\", leche],\n",
    "         [\"Gasto en verduras\", verduras],\n",
    "         [\"Gasto en frutas\", frutas]]\n",
    "\n",
    "#Imprime el valor carnes de la lista alimentos:\n",
    "print(alimentos[1][1])"
   ]
  },
  {
   "cell_type": "code",
   "execution_count": 44,
   "metadata": {},
   "outputs": [
    {
     "name": "stdout",
     "output_type": "stream",
     "text": [
      "['Gasto en cereales', 437.13, 'Gasto en verduras', 861.4, 'Gasto en frutas', 244.27, 'Gasto en carnes', 1787.13, 'Gasto en leche y derivados', 2841.41]\n"
     ]
    }
   ],
   "source": [
    "# Manipulando listas\n",
    "#Reemplazar elementos de la lista es bastante fácil. Simplemente subconjunte la lista y asigne nuevos valores al subconjunto. Puede seleccionar elementos individuales o puede cambiar secciones enteras de la lista a la vez.\n",
    "\n",
    "#Observa el código que se muestra a continuación. ¿Puedes decir qué está pasando y por qué?\n",
    "\n",
    "#x = [\"a\", \"b\", \"c\", \"d\"]\n",
    "#x [1] = \"r\" #le estoy pidiendo a python que cambie el valor \"b\" por \"r\"\n",
    "#x [2:] = [\"s\", \"t\"] #le estoy pidiendo a python que cambie los valores \"c y d\" por \"s y t\"\n",
    "#Para este y los siguientes ejercicios, continuará trabajando en la lista de áreas que contiene el gasto en alimentos de una familia mexicana.\n",
    "\n",
    "alimentos = [\"Gasto en cereales\", 437.13, \"Gasto en verduras\", 861.38, \"Gasto en frutas\", 244.27, \"Gasto en carnes\", 1787.13, \"Gasto en leche\", 2841.41]\n",
    "\n",
    "#redondea el gasto en verduras de 861.38 a 861.4\n",
    "\n",
    "alimentos[3] = 861.4\n",
    "\n",
    "#Cambia el texto \"Gasto en leche\" a \"Gasto en leche y derivados\"\n",
    "\n",
    "alimentos[-2] = \"Gasto en leche y derivados\"\n",
    "\n",
    "#Imprime alimentos y comprueba que se hicieron los cambios:\n",
    "print(alimentos)"
   ]
  },
  {
   "cell_type": "code",
   "execution_count": 45,
   "metadata": {},
   "outputs": [
    {
     "name": "stdout",
     "output_type": "stream",
     "text": [
      "['Gasto en cereales', 437.13, 'Gasto en verduras', 861.4, 'Gasto en frutas', 244.27, 'Gasto en carnes', 1787.13, 'Gasto en leche y derivados', 2841.41, 'Gasto en huevos', 308.57, 'Gasto en cafe', 964.28]\n"
     ]
    }
   ],
   "source": [
    "# Ampliar una lista\n",
    "#Si puede cambiar elementos en una lista, seguramente desea poder agregarle elementos, ¿verdad? Puedes usar el operador +:\n",
    "\n",
    "#x = [\"a\", \"b\", \"c\", \"d\"]\n",
    "#y = x + [\"e\", \"f\"] #la lista y tiene todos los elementos de la lista x mas los elementos \"e y f\"\n",
    "\n",
    "#Agrega a la lista de alimentos que la familia gasta 308.57 pesos en huevos y llama a esa nueva lista alimentos_1:\n",
    "alimentos_1 = alimentos + [\"Gasto en huevos\", 308.57]\n",
    "\n",
    "#Agrega a la lista de alimentos_1 que la familia gasta 964.28 pesos en café y llamala alimentos_2:\n",
    "alimentos_2 = alimentos_1 + [\"Gasto en cafe\", 964.28]\n",
    "\n",
    "#Imprimer la variable alimentos_2 para comprobar que se hicieron tus cambios:\n",
    "print(alimentos_2)\n"
   ]
  },
  {
   "cell_type": "code",
   "execution_count": 47,
   "metadata": {},
   "outputs": [
    {
     "name": "stdout",
     "output_type": "stream",
     "text": [
      "['Gasto en cereales', 437.13, 'Gasto en verduras', 861.4, 'Gasto en frutas', 244.27, 'Gasto en carnes', 1787.13, 'Gasto en leche y derivados', 2841.41, 'Gasto en huevos', 964.28]\n"
     ]
    }
   ],
   "source": [
    "# Eliminar elementos de la lista\n",
    "#Finalmente, también puede eliminar elementos de su lista. Puede hacer esto con la declaración \"del\":\n",
    "\n",
    "#x = [\"a\", \"b\", \"c\", \"d\"]\n",
    "#del (x [1]) #Python me va a eliminar el elemento \"b\"\n",
    "#Preste atención aquí: tan pronto como elimine un elemento de una lista, ¡los índices de los elementos que vienen después del elemento eliminado cambian todos!\n",
    "\n",
    "#La versión actualizada y extendida de las áreas que ha creado en los ejercicios anteriores se codifica a continuación. \n",
    "\n",
    "alimentos = ['Gasto en cereales', 437.13, 'Gasto en verduras', 861.4, 'Gasto en frutas', 244.27, 'Gasto en carnes', 1787.13, 'Gasto en leche y derivados', 2841.41, 'Gasto en huevos', 308.57, 'Gasto en cafe', 964.28]\n",
    "\n",
    "#Los ; El signo se utiliza para colocar comandos en la misma línea. Los siguientes dos fragmentos de código son equivalentes:\n",
    "\n",
    "# Misma línea\n",
    "#comando1; comando2\n",
    "\n",
    "# Líneas separadas\n",
    "#comando1\n",
    "#comando2\n",
    "\n",
    "#Elimina el gasto que hace la familia mexicana en café:\n",
    "\n",
    "del(alimentos[-3:-1])\n",
    "print(alimentos)"
   ]
  },
  {
   "cell_type": "code",
   "execution_count": 48,
   "metadata": {},
   "outputs": [
    {
     "name": "stdout",
     "output_type": "stream",
     "text": [
      "Help on built-in function max in module builtins:\n",
      "\n",
      "max(...)\n",
      "    max(iterable, *[, default=obj, key=func]) -> value\n",
      "    max(arg1, arg2, *args, *[, key=func]) -> value\n",
      "    \n",
      "    With a single iterable argument, return its biggest item. The\n",
      "    default keyword-only argument specifies an object to return if\n",
      "    the provided iterable is empty.\n",
      "    With two or more arguments, return the largest argument.\n",
      "\n"
     ]
    },
    {
     "data": {
      "text/plain": [
       "5"
      ]
     },
     "execution_count": 48,
     "metadata": {},
     "output_type": "execute_result"
    }
   ],
   "source": [
    "#FUNCIONES\n",
    "\n",
    "#Fuera de la caja, Python ofrece un montón de funciones integradas para facilitarle la vida como científico de datos. Ya conoce dos de estas funciones: print() y type(). También ha utilizado las funciones str(), int(), bool() y float() para cambiar entre los tipos de datos. Estas son funciones integradas también.\n",
    "\n",
    "#Llamar a una función es fácil. Para obtener el tipo de 3.0 y almacenar el resultado como una nueva variable, resultado, puede usar lo siguiente:\n",
    "\n",
    "#resultado = type(3.0)\n",
    "#La receta general para llamar a funciones y guardar el resultado en una variable es así:\n",
    "\n",
    "#salida = nombre_función(entrada)\n",
    "\n",
    "#Tal vez ya conozca el nombre de una función de Python, pero aún tiene que descubrir cómo usarla. Irónicamente, tienes que pedir información sobre una función con otra función: ayuda (). En IPython específicamente, ¿también puedes usar? antes del nombre de la función.\n",
    "\n",
    "#Para obtener ayuda sobre la función max(), por ejemplo, puede usar una de estas llamadas:\n",
    "\n",
    "#help(max)\n",
    "#? max\n",
    " \n",
    "#Descubre como se usa la función max() usando la función help() y pide a python el máximo de la variable a\n",
    "a = [1, 2, 3, 4, 5]\n",
    "help(max)\n",
    "max(a)"
   ]
  },
  {
   "cell_type": "code",
   "execution_count": null,
   "metadata": {},
   "outputs": [],
   "source": []
  }
 ],
 "metadata": {
  "kernelspec": {
   "display_name": "Python 3",
   "language": "python",
   "name": "python3"
  },
  "language_info": {
   "codemirror_mode": {
    "name": "ipython",
    "version": 3
   },
   "file_extension": ".py",
   "mimetype": "text/x-python",
   "name": "python",
   "nbconvert_exporter": "python",
   "pygments_lexer": "ipython3",
   "version": "3.7.6"
  }
 },
 "nbformat": 4,
 "nbformat_minor": 4
}
